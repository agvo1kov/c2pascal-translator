{
 "cells": [
  {
   "cell_type": "code",
   "execution_count": 20,
   "metadata": {},
   "outputs": [],
   "source": [
    "import re\n",
    "import sys\n",
    "import pprint\n",
    "import json\n",
    "from IPython.display import display\n",
    "from colorama import Fore, Back, Style"
   ]
  },
  {
   "cell_type": "code",
   "execution_count": 21,
   "metadata": {},
   "outputs": [],
   "source": [
    "with open('./res/lab1.json') as lab1_file:\n",
    "    data = json.load(lab1_file)\n",
    "chain = data['chain']\n",
    "service_words = data['tables']['service_words']\n",
    "operations = data['tables']['operations']\n",
    "separators = data['tables']['separators']\n",
    "constants = data['tables']['constants']\n",
    "identifiers = data['tables']['identifiers']"
   ]
  },
  {
   "cell_type": "code",
   "execution_count": 24,
   "metadata": {},
   "outputs": [],
   "source": [
    "def getToken(token):\n",
    "    global chain, service_words, operations, separators, constants, identifiers\n",
    "    codes = ['W', 'O', 'R', 'C', 'I']\n",
    "    tables = [service_words, operations, separators, constants, identifiers]\n",
    "    return tables[codes.index(token[0])][token[1]]"
   ]
  },
  {
   "cell_type": "code",
   "execution_count": 25,
   "metadata": {},
   "outputs": [
    {
     "name": "stdout",
     "output_type": "stream",
     "text": [
      "void\n",
      "{'type': 'identifier', 'name': 'func'}\n",
      "(\n",
      "float\n",
      "{'type': 'identifier', 'name': 'f1'}\n",
      ",\n",
      "int\n",
      "{'type': 'identifier', 'name': 'f2'}\n",
      ")\n",
      "{\n",
      "return\n",
      "{'type': 'integer', 'value': '0'}\n",
      ";\n",
      "}\n",
      "int\n",
      "main\n",
      "(\n",
      ")\n",
      "{\n",
      "int\n",
      "{'type': 'identifier', 'name': 'a'}\n",
      ",\n",
      "{'type': 'identifier', 'name': 'b'}\n",
      "[\n",
      "{'type': 'integer', 'value': '5'}\n",
      "]\n",
      ",\n",
      "{'type': 'identifier', 'name': 'c'}\n",
      ";\n",
      "char\n",
      "{'type': 'identifier', 'name': 'd'}\n",
      "[\n",
      "{'type': 'integer', 'value': '1'}\n",
      "]\n",
      "[\n",
      "{'type': 'integer', 'value': '4'}\n",
      "]\n",
      "[\n",
      "{'type': 'integer', 'value': '100'}\n",
      "]\n",
      ";\n",
      "{'type': 'identifier', 'name': 'a'}\n",
      "=\n",
      "{'type': 'identifier', 'name': 'b'}\n",
      "+\n",
      "{'type': 'integer', 'value': '5'}\n",
      ";\n",
      "return\n",
      "{'type': 'integer', 'value': '0'}\n",
      ";\n",
      "}\n"
     ]
    }
   ],
   "source": [
    "for token in chain:\n",
    "    print(getToken(token))"
   ]
  },
  {
   "cell_type": "code",
   "execution_count": null,
   "metadata": {},
   "outputs": [],
   "source": []
  }
 ],
 "metadata": {
  "kernelspec": {
   "display_name": "Python 3",
   "language": "python",
   "name": "python3"
  },
  "language_info": {
   "codemirror_mode": {
    "name": "ipython",
    "version": 3
   },
   "file_extension": ".py",
   "mimetype": "text/x-python",
   "name": "python",
   "nbconvert_exporter": "python",
   "pygments_lexer": "ipython3",
   "version": "3.7.2"
  }
 },
 "nbformat": 4,
 "nbformat_minor": 2
}
